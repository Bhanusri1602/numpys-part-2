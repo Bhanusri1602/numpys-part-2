{
 "cells": [
  {
   "cell_type": "code",
   "execution_count": 3,
   "id": "3cbc6ad8",
   "metadata": {},
   "outputs": [],
   "source": [
    "import numpy as np"
   ]
  },
  {
   "cell_type": "code",
   "execution_count": 10,
   "id": "303a2c31",
   "metadata": {},
   "outputs": [
    {
     "data": {
      "text/plain": [
       "5"
      ]
     },
     "execution_count": 10,
     "metadata": {},
     "output_type": "execute_result"
    }
   ],
   "source": [
    "#creating 5*5 array\n",
    "    \n",
    "h = np.array ([(81,16,20,12,24),(10,22,88,43,55),(31,46,29,30,76),(83,38,75,54,14),(78,43,83,11,25)])\n",
    "len(h)"
   ]
  },
  {
   "cell_type": "code",
   "execution_count": 7,
   "id": "7a6411f5",
   "metadata": {},
   "outputs": [
    {
     "data": {
      "text/plain": [
       "30"
      ]
     },
     "execution_count": 7,
     "metadata": {},
     "output_type": "execute_result"
    }
   ],
   "source": [
    "# accesing elements \n",
    "h[2,3]"
   ]
  },
  {
   "cell_type": "code",
   "execution_count": 8,
   "id": "8fdb2cc0",
   "metadata": {},
   "outputs": [
    {
     "data": {
      "text/plain": [
       "55"
      ]
     },
     "execution_count": 8,
     "metadata": {},
     "output_type": "execute_result"
    }
   ],
   "source": [
    "h[1,4]"
   ]
  },
  {
   "cell_type": "code",
   "execution_count": 9,
   "id": "cf587b32",
   "metadata": {},
   "outputs": [
    {
     "data": {
      "text/plain": [
       "83"
      ]
     },
     "execution_count": 9,
     "metadata": {},
     "output_type": "execute_result"
    }
   ],
   "source": [
    "h[4,2]"
   ]
  },
  {
   "cell_type": "code",
   "execution_count": 14,
   "id": "cdfd2c8e",
   "metadata": {},
   "outputs": [
    {
     "data": {
      "text/plain": [
       "73"
      ]
     },
     "execution_count": 14,
     "metadata": {},
     "output_type": "execute_result"
    }
   ],
   "source": [
    "# accessing elements from 3-D array\n",
    "j = np.array ([[[81,82,83,84],[85,86,87,88]],\n",
    "               [[89,90,91,92],[93,94,95,96]],\n",
    "               [[97,98,99,80],[79,78,77,76]],\n",
    "               [[75,74,73,72],[71,70,69,68]]])\n",
    "j[3,0,2]"
   ]
  },
  {
   "cell_type": "code",
   "execution_count": 15,
   "id": "419ec8ce",
   "metadata": {},
   "outputs": [
    {
     "data": {
      "text/plain": [
       "88"
      ]
     },
     "execution_count": 15,
     "metadata": {},
     "output_type": "execute_result"
    }
   ],
   "source": [
    "j[0,1,3]"
   ]
  },
  {
   "cell_type": "code",
   "execution_count": 17,
   "id": "6e200b33",
   "metadata": {},
   "outputs": [
    {
     "data": {
      "text/plain": [
       "98"
      ]
     },
     "execution_count": 17,
     "metadata": {},
     "output_type": "execute_result"
    }
   ],
   "source": [
    "j[2,0,1]"
   ]
  },
  {
   "cell_type": "code",
   "execution_count": 18,
   "id": "8c35e595",
   "metadata": {},
   "outputs": [
    {
     "data": {
      "text/plain": [
       "95"
      ]
     },
     "execution_count": 18,
     "metadata": {},
     "output_type": "execute_result"
    }
   ],
   "source": [
    "j[1,1,2]"
   ]
  },
  {
   "cell_type": "code",
   "execution_count": 27,
   "id": "c294e447",
   "metadata": {},
   "outputs": [
    {
     "data": {
      "text/plain": [
       "array([[  1,   2,   3,   4,   5,   6,   7,   8,   9,  10],\n",
       "       [ 11,  12,  13,  14,  15,  16,  17,  18,  19,  20],\n",
       "       [ 21,  22,  23,  24,  25,  26,  27,  28,  29,  30],\n",
       "       [ 31,  32,  33,  34,  35,  36,  37,  38,  39,  40],\n",
       "       [ 41,  42,  43,  44,  45,  46,  47,  48,  49,  50],\n",
       "       [ 51,  52,  53,  54,  55,  56,  57,  58,  59,  60],\n",
       "       [ 61,  62,  63,  64,  65,  66,  67,  68,  69,  70],\n",
       "       [ 71,  72,  73,  74,  75,  76,  77,  78,  79,  80],\n",
       "       [ 81,  82,  83,  84,  85,  86,  87,  88,  89,  90],\n",
       "       [ 91,  92,  93,  94,  95,  96,  97,  98,  99, 100],\n",
       "       [101, 102, 103, 104, 105, 106, 107, 108, 109, 110],\n",
       "       [111, 112, 113, 114, 115, 116, 117, 118, 119, 120]])"
      ]
     },
     "execution_count": 27,
     "metadata": {},
     "output_type": "execute_result"
    }
   ],
   "source": [
    "#creatoing 1-D array and reshaping \n",
    "\n",
    "r =np.array([1,2,3,4,5,6,7,8,9,10,11,12,13,14,15,16,17,18,19,20,21,22,23,24,25,26,27,28,29,30,31,32,33,34,35,36,37,38,39,40,41,42,43,44,45,46,47,48,49,50,51,52,53,54,55,56,57,58,59,60,61,62,63,64,65,66,67,68,69,70,71,72,73,74,75,76,77,78,79,80,81,82,83,84,85,86,87,88,89,90,91,92,93,94,95,96,97,98,99,100,101,102,103,104,105,106,107,108,109,110,111,112,113,114,115,116,117,118,119,120])\n",
    "\n",
    "r.reshape(12,10)"
   ]
  },
  {
   "cell_type": "code",
   "execution_count": 29,
   "id": "0f572a73",
   "metadata": {
    "scrolled": true
   },
   "outputs": [
    {
     "data": {
      "text/plain": [
       "array([[[  1,   2,   3,   4,   5,   6],\n",
       "        [  7,   8,   9,  10,  11,  12],\n",
       "        [ 13,  14,  15,  16,  17,  18],\n",
       "        [ 19,  20,  21,  22,  23,  24],\n",
       "        [ 25,  26,  27,  28,  29,  30]],\n",
       "\n",
       "       [[ 31,  32,  33,  34,  35,  36],\n",
       "        [ 37,  38,  39,  40,  41,  42],\n",
       "        [ 43,  44,  45,  46,  47,  48],\n",
       "        [ 49,  50,  51,  52,  53,  54],\n",
       "        [ 55,  56,  57,  58,  59,  60]],\n",
       "\n",
       "       [[ 61,  62,  63,  64,  65,  66],\n",
       "        [ 67,  68,  69,  70,  71,  72],\n",
       "        [ 73,  74,  75,  76,  77,  78],\n",
       "        [ 79,  80,  81,  82,  83,  84],\n",
       "        [ 85,  86,  87,  88,  89,  90]],\n",
       "\n",
       "       [[ 91,  92,  93,  94,  95,  96],\n",
       "        [ 97,  98,  99, 100, 101, 102],\n",
       "        [103, 104, 105, 106, 107, 108],\n",
       "        [109, 110, 111, 112, 113, 114],\n",
       "        [115, 116, 117, 118, 119, 120]]])"
      ]
     },
     "execution_count": 29,
     "metadata": {},
     "output_type": "execute_result"
    }
   ],
   "source": [
    "# reshaping into 3-D array\n",
    "\n",
    "r.reshape(4,5,6)"
   ]
  },
  {
   "cell_type": "code",
   "execution_count": null,
   "id": "05bb263d",
   "metadata": {},
   "outputs": [],
   "source": []
  }
 ],
 "metadata": {
  "kernelspec": {
   "display_name": "Python 3 (ipykernel)",
   "language": "python",
   "name": "python3"
  },
  "language_info": {
   "codemirror_mode": {
    "name": "ipython",
    "version": 3
   },
   "file_extension": ".py",
   "mimetype": "text/x-python",
   "name": "python",
   "nbconvert_exporter": "python",
   "pygments_lexer": "ipython3",
   "version": "3.11.5"
  }
 },
 "nbformat": 4,
 "nbformat_minor": 5
}
